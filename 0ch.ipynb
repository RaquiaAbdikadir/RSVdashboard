{
 "cells": [
  {
   "cell_type": "code",
   "execution_count": 23,
   "id": "c82b25ee-572f-42ac-bdc3-cb7ca996817f",
   "metadata": {},
   "outputs": [
    {
     "name": "stdout",
     "output_type": "stream",
     "text": [
      "Pages retrieved (admissions): 1\n",
      "Pages retrieved (admissions): 2\n",
      "Pages retrieved (admissions): 3\n",
      "Data points expected (admissions): 430\n",
      "Data points retrieved (admissions): 430\n",
      "Pages retrieved (positivity): 1\n",
      "Pages retrieved (positivity): 2\n",
      "Data points expected (positivity): 345\n",
      "Data points retrieved (positivity): 345\n"
     ]
    }
   ],
   "source": [
    "import requests\n",
    "import time\n",
    "import json\n",
    "\n",
    "class APIwrapper:\n",
    "    _access_point=\"https://api.ukhsa-dashboard.data.gov.uk\"\n",
    "    _last_access=0.0 # time of last API access\n",
    "\n",
    "    def __init__(self, theme, sub_theme, topic, geography_type, geography, metric):\n",
    "        url_path=(f\"/themes/{theme}/sub_themes/{sub_theme}/topics/{topic}/geography_types/\" +\n",
    "                  f\"{geography_type}/geographies/{geography}/metrics/{metric}\")\n",
    "        self._start_url=APIwrapper._access_point+url_path\n",
    "        self._filters=None\n",
    "        self._page_size=-1\n",
    "        self.count=None\n",
    "\n",
    "    def get_page(self, filters={}, page_size=5):\n",
    "        if page_size > 365:\n",
    "            raise ValueError(\"Max supported page size is 365\")\n",
    "        if filters != self._filters or page_size != self._page_size:\n",
    "            self._filters = filters\n",
    "            self._page_size = page_size\n",
    "            self._next_url = self._start_url\n",
    "        if self._next_url is None:\n",
    "            return []\n",
    "        curr_time = time.time()\n",
    "        deltat = curr_time - APIwrapper._last_access\n",
    "        if deltat < 0.33:\n",
    "            time.sleep(0.33 - deltat)\n",
    "        APIwrapper._last_access = curr_time\n",
    "        parameters = {x: y for x, y in filters.items() if y is not None}\n",
    "        parameters['page_size'] = page_size\n",
    "        response = requests.get(self._next_url, params=parameters).json()\n",
    "        self._next_url = response.get('next')\n",
    "        self.count = response['count']\n",
    "        return response['results']\n",
    "\n",
    "# Common structure for both queries\n",
    "structure = {\n",
    "    \"theme\": \"infectious_disease\",\n",
    "    \"sub_theme\": \"respiratory\",\n",
    "    \"topic\": \"RSV\",\n",
    "    \"geography_type\": \"Nation\",\n",
    "    \"geography\": \"England\"\n",
    "}\n",
    "\n",
    "# Filters for the year 2024\n",
    "filters = {\n",
    "    \"stratum\": None,\n",
    "    \"age\": None,\n",
    "    \"sex\": None,\n",
    "    \"year\": 2024,\n",
    "    \"month\": None,\n",
    "    \"epiweek\": None,\n",
    "    \"date\": None,\n",
    "    \"in_reporting_delay_period\": None\n",
    "}\n",
    "\n",
    "# Retrieving data for RSV healthcare admission rate by week\n",
    "structure[\"metric\"] = \"RSV_healthcare_admissionRateByWeek\"\n",
    "api_admissions = APIwrapper(**structure)\n",
    "admissions = []\n",
    "page = 1\n",
    "while True:\n",
    "    data = api_admissions.get_page(filters, page_size=365)\n",
    "    print(f\"Pages retrieved (admissions): {page}\")\n",
    "    if data == []:\n",
    "        break\n",
    "    admissions.extend(data)\n",
    "    page += 1\n",
    "print(f\"Data points expected (admissions): {api_admissions.count}\")\n",
    "print(f\"Data points retrieved (admissions): {len(admissions)}\")\n",
    "\n",
    "# Retrieving data for RSV testing positivity by week\n",
    "structure[\"metric\"] = \"RSV_testing_positivityByWeek\"\n",
    "api_positivity = APIwrapper(**structure)\n",
    "positivity = []\n",
    "page = 1\n",
    "while True:\n",
    "    data = api_positivity.get_page(filters, page_size=365)\n",
    "    print(f\"Pages retrieved (positivity): {page}\")\n",
    "    if data == []:\n",
    "        break\n",
    "    positivity.extend(data)\n",
    "    page += 1\n",
    "print(f\"Data points expected (positivity): {api_positivity.count}\")\n",
    "print(f\"Data points retrieved (positivity): {len(positivity)}\")\n",
    "\n",
    "# Save the admissions data to admissions_attempt2.json\n",
    "with open(\"admissions_attempt2.json\", \"wt\") as OUTF:\n",
    "    json.dump(admissions, OUTF)\n",
    "\n",
    "# Save the positivity data to positivity_attempt2.json\n",
    "with open(\"positivity_attempt2.json\", \"wt\") as OUTF:\n",
    "    json.dump(positivity, OUTF)\n",
    "\n"
   ]
  },
  {
   "cell_type": "code",
   "execution_count": 25,
   "id": "55ce7981-d6d0-4b2c-bbdc-0754b4b990f7",
   "metadata": {},
   "outputs": [],
   "source": [
    "import pandas as pd\n",
    "import matplotlib.pyplot as plt\n",
    "import matplotlib.dates as mdates\n",
    "import json"
   ]
  },
  {
   "cell_type": "code",
   "execution_count": 26,
   "id": "af9de0f2-339c-48aa-a6ca-bb2fe58824d3",
   "metadata": {},
   "outputs": [],
   "source": [
    "# an iPython  \"magic\" that enables the embedding of matplotlib output\n",
    "%matplotlib inline\n",
    "# make figures larger\n",
    "plt.rcParams['figure.dpi'] = 100"
   ]
  },
  {
   "cell_type": "code",
   "execution_count": 27,
   "id": "0a19eb87-6a89-4381-8967-251e63c488cb",
   "metadata": {},
   "outputs": [],
   "source": [
    "with open(\"admissions_attempt2.json\", \"rt\") as INFILE:\n",
    "    admissions=json.load(INFILE)\n",
    "with open(\"positivity_attempt2.json\", \"rt\") as INFILE:\n",
    "    positivity=json.load(INFILE)"
   ]
  },
  {
   "cell_type": "code",
   "execution_count": 28,
   "id": "cbcfac06-9c60-4982-b459-56c2d9bcb0fc",
   "metadata": {},
   "outputs": [],
   "source": [
    "data={}\n",
    "for dataset in [admissions, positivity]:\n",
    "    for entry in dataset:\n",
    "        date=entry['date']\n",
    "        metric=entry['metric']\n",
    "        value=entry['metric_value']\n",
    "        if date not in data:\n",
    "            data[date]={}\n",
    "        data[date][metric]=value"
   ]
  },
  {
   "cell_type": "code",
   "execution_count": 29,
   "id": "84638f59-95b4-4be0-b49b-7e1d93a7c846",
   "metadata": {},
   "outputs": [
    {
     "data": {
      "text/plain": [
       "['2024-01-01',\n",
       " '2024-01-08',\n",
       " '2024-01-15',\n",
       " '2024-01-22',\n",
       " '2024-01-29',\n",
       " '2024-02-05',\n",
       " '2024-02-12',\n",
       " '2024-02-19',\n",
       " '2024-02-26',\n",
       " '2024-03-04',\n",
       " '2024-03-11',\n",
       " '2024-03-18',\n",
       " '2024-03-25',\n",
       " '2024-04-01',\n",
       " '2024-04-08',\n",
       " '2024-04-15',\n",
       " '2024-04-22',\n",
       " '2024-04-29',\n",
       " '2024-05-06',\n",
       " '2024-05-13',\n",
       " '2024-05-20',\n",
       " '2024-05-27',\n",
       " '2024-06-03',\n",
       " '2024-06-10',\n",
       " '2024-06-17',\n",
       " '2024-06-24',\n",
       " '2024-07-01',\n",
       " '2024-07-08',\n",
       " '2024-07-15',\n",
       " '2024-07-22',\n",
       " '2024-07-29',\n",
       " '2024-08-05',\n",
       " '2024-08-12',\n",
       " '2024-08-19',\n",
       " '2024-08-26',\n",
       " '2024-09-02',\n",
       " '2024-09-09',\n",
       " '2024-09-16',\n",
       " '2024-09-23',\n",
       " '2024-09-30',\n",
       " '2024-10-07']"
      ]
     },
     "execution_count": 29,
     "metadata": {},
     "output_type": "execute_result"
    }
   ],
   "source": [
    "dates=list(data.keys())\n",
    "dates.sort()\n",
    "dates "
   ]
  },
  {
   "cell_type": "code",
   "execution_count": 30,
   "id": "10b856fa-a8ca-4731-a604-9b274ab41f5d",
   "metadata": {},
   "outputs": [
    {
     "data": {
      "text/plain": [
       "{'RSV_healthcare_admissionRateByWeek': 0.13,\n",
       " 'RSV_testing_positivityByWeek': 4.5}"
      ]
     },
     "execution_count": 30,
     "metadata": {},
     "output_type": "execute_result"
    }
   ],
   "source": [
    "data['2024-01-01']"
   ]
  },
  {
   "cell_type": "code",
   "execution_count": 31,
   "id": "d80d812e-ac54-4780-88eb-e223de13cdcc",
   "metadata": {},
   "outputs": [],
   "source": [
    "def parse_date(datestring):\n",
    "    \"\"\" Convert a date string into a pandas datetime object \"\"\"\n",
    "    return pd.to_datetime(datestring, format=\"%Y-%m-%d\")"
   ]
  },
  {
   "cell_type": "code",
   "execution_count": 32,
   "id": "202b7be4-0dc8-498a-bf0d-3a770f5ffb03",
   "metadata": {},
   "outputs": [
    {
     "name": "stdout",
     "output_type": "stream",
     "text": [
      "Data range: 2024-01-01 00:00:00 to 2024-10-07 00:00:00\n"
     ]
    }
   ],
   "source": [
    "startdate=parse_date(dates[0])\n",
    "enddate=parse_date(dates[-1])\n",
    "print(f\"Data range: {startdate} to {enddate}\")"
   ]
  },
  {
   "cell_type": "code",
   "execution_count": 33,
   "id": "c0685b3d-2e46-47a3-911b-7cfa8af00155",
   "metadata": {},
   "outputs": [
    {
     "data": {
      "text/html": [
       "<div>\n",
       "<style scoped>\n",
       "    .dataframe tbody tr th:only-of-type {\n",
       "        vertical-align: middle;\n",
       "    }\n",
       "\n",
       "    .dataframe tbody tr th {\n",
       "        vertical-align: top;\n",
       "    }\n",
       "\n",
       "    .dataframe thead th {\n",
       "        text-align: right;\n",
       "    }\n",
       "</style>\n",
       "<table border=\"1\" class=\"dataframe\">\n",
       "  <thead>\n",
       "    <tr style=\"text-align: right;\">\n",
       "      <th></th>\n",
       "      <th>admissions</th>\n",
       "      <th>positivity</th>\n",
       "    </tr>\n",
       "  </thead>\n",
       "  <tbody>\n",
       "    <tr>\n",
       "      <th>2024-01-01</th>\n",
       "      <td>NaN</td>\n",
       "      <td>NaN</td>\n",
       "    </tr>\n",
       "    <tr>\n",
       "      <th>2024-01-08</th>\n",
       "      <td>NaN</td>\n",
       "      <td>NaN</td>\n",
       "    </tr>\n",
       "    <tr>\n",
       "      <th>2024-01-15</th>\n",
       "      <td>NaN</td>\n",
       "      <td>NaN</td>\n",
       "    </tr>\n",
       "    <tr>\n",
       "      <th>2024-01-22</th>\n",
       "      <td>NaN</td>\n",
       "      <td>NaN</td>\n",
       "    </tr>\n",
       "    <tr>\n",
       "      <th>2024-01-29</th>\n",
       "      <td>NaN</td>\n",
       "      <td>NaN</td>\n",
       "    </tr>\n",
       "    <tr>\n",
       "      <th>2024-02-05</th>\n",
       "      <td>NaN</td>\n",
       "      <td>NaN</td>\n",
       "    </tr>\n",
       "    <tr>\n",
       "      <th>2024-02-12</th>\n",
       "      <td>NaN</td>\n",
       "      <td>NaN</td>\n",
       "    </tr>\n",
       "    <tr>\n",
       "      <th>2024-02-19</th>\n",
       "      <td>NaN</td>\n",
       "      <td>NaN</td>\n",
       "    </tr>\n",
       "    <tr>\n",
       "      <th>2024-02-26</th>\n",
       "      <td>NaN</td>\n",
       "      <td>NaN</td>\n",
       "    </tr>\n",
       "    <tr>\n",
       "      <th>2024-03-04</th>\n",
       "      <td>NaN</td>\n",
       "      <td>NaN</td>\n",
       "    </tr>\n",
       "    <tr>\n",
       "      <th>2024-03-11</th>\n",
       "      <td>NaN</td>\n",
       "      <td>NaN</td>\n",
       "    </tr>\n",
       "    <tr>\n",
       "      <th>2024-03-18</th>\n",
       "      <td>NaN</td>\n",
       "      <td>NaN</td>\n",
       "    </tr>\n",
       "    <tr>\n",
       "      <th>2024-03-25</th>\n",
       "      <td>NaN</td>\n",
       "      <td>NaN</td>\n",
       "    </tr>\n",
       "    <tr>\n",
       "      <th>2024-04-01</th>\n",
       "      <td>NaN</td>\n",
       "      <td>NaN</td>\n",
       "    </tr>\n",
       "    <tr>\n",
       "      <th>2024-04-08</th>\n",
       "      <td>NaN</td>\n",
       "      <td>NaN</td>\n",
       "    </tr>\n",
       "    <tr>\n",
       "      <th>2024-04-15</th>\n",
       "      <td>NaN</td>\n",
       "      <td>NaN</td>\n",
       "    </tr>\n",
       "    <tr>\n",
       "      <th>2024-04-22</th>\n",
       "      <td>NaN</td>\n",
       "      <td>NaN</td>\n",
       "    </tr>\n",
       "    <tr>\n",
       "      <th>2024-04-29</th>\n",
       "      <td>NaN</td>\n",
       "      <td>NaN</td>\n",
       "    </tr>\n",
       "    <tr>\n",
       "      <th>2024-05-06</th>\n",
       "      <td>NaN</td>\n",
       "      <td>NaN</td>\n",
       "    </tr>\n",
       "    <tr>\n",
       "      <th>2024-05-13</th>\n",
       "      <td>NaN</td>\n",
       "      <td>NaN</td>\n",
       "    </tr>\n",
       "    <tr>\n",
       "      <th>2024-05-20</th>\n",
       "      <td>NaN</td>\n",
       "      <td>NaN</td>\n",
       "    </tr>\n",
       "    <tr>\n",
       "      <th>2024-05-27</th>\n",
       "      <td>NaN</td>\n",
       "      <td>NaN</td>\n",
       "    </tr>\n",
       "    <tr>\n",
       "      <th>2024-06-03</th>\n",
       "      <td>NaN</td>\n",
       "      <td>NaN</td>\n",
       "    </tr>\n",
       "    <tr>\n",
       "      <th>2024-06-10</th>\n",
       "      <td>NaN</td>\n",
       "      <td>NaN</td>\n",
       "    </tr>\n",
       "    <tr>\n",
       "      <th>2024-06-17</th>\n",
       "      <td>NaN</td>\n",
       "      <td>NaN</td>\n",
       "    </tr>\n",
       "    <tr>\n",
       "      <th>2024-06-24</th>\n",
       "      <td>NaN</td>\n",
       "      <td>NaN</td>\n",
       "    </tr>\n",
       "    <tr>\n",
       "      <th>2024-07-01</th>\n",
       "      <td>NaN</td>\n",
       "      <td>NaN</td>\n",
       "    </tr>\n",
       "    <tr>\n",
       "      <th>2024-07-08</th>\n",
       "      <td>NaN</td>\n",
       "      <td>NaN</td>\n",
       "    </tr>\n",
       "    <tr>\n",
       "      <th>2024-07-15</th>\n",
       "      <td>NaN</td>\n",
       "      <td>NaN</td>\n",
       "    </tr>\n",
       "    <tr>\n",
       "      <th>2024-07-22</th>\n",
       "      <td>NaN</td>\n",
       "      <td>NaN</td>\n",
       "    </tr>\n",
       "    <tr>\n",
       "      <th>2024-07-29</th>\n",
       "      <td>NaN</td>\n",
       "      <td>NaN</td>\n",
       "    </tr>\n",
       "    <tr>\n",
       "      <th>2024-08-05</th>\n",
       "      <td>NaN</td>\n",
       "      <td>NaN</td>\n",
       "    </tr>\n",
       "    <tr>\n",
       "      <th>2024-08-12</th>\n",
       "      <td>NaN</td>\n",
       "      <td>NaN</td>\n",
       "    </tr>\n",
       "    <tr>\n",
       "      <th>2024-08-19</th>\n",
       "      <td>NaN</td>\n",
       "      <td>NaN</td>\n",
       "    </tr>\n",
       "    <tr>\n",
       "      <th>2024-08-26</th>\n",
       "      <td>NaN</td>\n",
       "      <td>NaN</td>\n",
       "    </tr>\n",
       "    <tr>\n",
       "      <th>2024-09-02</th>\n",
       "      <td>NaN</td>\n",
       "      <td>NaN</td>\n",
       "    </tr>\n",
       "    <tr>\n",
       "      <th>2024-09-09</th>\n",
       "      <td>NaN</td>\n",
       "      <td>NaN</td>\n",
       "    </tr>\n",
       "    <tr>\n",
       "      <th>2024-09-16</th>\n",
       "      <td>NaN</td>\n",
       "      <td>NaN</td>\n",
       "    </tr>\n",
       "    <tr>\n",
       "      <th>2024-09-23</th>\n",
       "      <td>NaN</td>\n",
       "      <td>NaN</td>\n",
       "    </tr>\n",
       "    <tr>\n",
       "      <th>2024-09-30</th>\n",
       "      <td>NaN</td>\n",
       "      <td>NaN</td>\n",
       "    </tr>\n",
       "    <tr>\n",
       "      <th>2024-10-07</th>\n",
       "      <td>NaN</td>\n",
       "      <td>NaN</td>\n",
       "    </tr>\n",
       "  </tbody>\n",
       "</table>\n",
       "</div>"
      ],
      "text/plain": [
       "           admissions positivity\n",
       "2024-01-01        NaN        NaN\n",
       "2024-01-08        NaN        NaN\n",
       "2024-01-15        NaN        NaN\n",
       "2024-01-22        NaN        NaN\n",
       "2024-01-29        NaN        NaN\n",
       "2024-02-05        NaN        NaN\n",
       "2024-02-12        NaN        NaN\n",
       "2024-02-19        NaN        NaN\n",
       "2024-02-26        NaN        NaN\n",
       "2024-03-04        NaN        NaN\n",
       "2024-03-11        NaN        NaN\n",
       "2024-03-18        NaN        NaN\n",
       "2024-03-25        NaN        NaN\n",
       "2024-04-01        NaN        NaN\n",
       "2024-04-08        NaN        NaN\n",
       "2024-04-15        NaN        NaN\n",
       "2024-04-22        NaN        NaN\n",
       "2024-04-29        NaN        NaN\n",
       "2024-05-06        NaN        NaN\n",
       "2024-05-13        NaN        NaN\n",
       "2024-05-20        NaN        NaN\n",
       "2024-05-27        NaN        NaN\n",
       "2024-06-03        NaN        NaN\n",
       "2024-06-10        NaN        NaN\n",
       "2024-06-17        NaN        NaN\n",
       "2024-06-24        NaN        NaN\n",
       "2024-07-01        NaN        NaN\n",
       "2024-07-08        NaN        NaN\n",
       "2024-07-15        NaN        NaN\n",
       "2024-07-22        NaN        NaN\n",
       "2024-07-29        NaN        NaN\n",
       "2024-08-05        NaN        NaN\n",
       "2024-08-12        NaN        NaN\n",
       "2024-08-19        NaN        NaN\n",
       "2024-08-26        NaN        NaN\n",
       "2024-09-02        NaN        NaN\n",
       "2024-09-09        NaN        NaN\n",
       "2024-09-16        NaN        NaN\n",
       "2024-09-23        NaN        NaN\n",
       "2024-09-30        NaN        NaN\n",
       "2024-10-07        NaN        NaN"
      ]
     },
     "execution_count": 33,
     "metadata": {},
     "output_type": "execute_result"
    }
   ],
   "source": [
    "index=pd.date_range(startdate, enddate, freq='W-MON')\n",
    "timeseriesdf=pd.DataFrame(index=index, columns=[ 'admissions', 'positivity'])\n",
    "timeseriesdf"
   ]
  },
  {
   "cell_type": "code",
   "execution_count": 34,
   "id": "7a45c71e-f1d3-40ed-b71f-039162a888fa",
   "metadata": {},
   "outputs": [
    {
     "data": {
      "text/html": [
       "<div>\n",
       "<style scoped>\n",
       "    .dataframe tbody tr th:only-of-type {\n",
       "        vertical-align: middle;\n",
       "    }\n",
       "\n",
       "    .dataframe tbody tr th {\n",
       "        vertical-align: top;\n",
       "    }\n",
       "\n",
       "    .dataframe thead th {\n",
       "        text-align: right;\n",
       "    }\n",
       "</style>\n",
       "<table border=\"1\" class=\"dataframe\">\n",
       "  <thead>\n",
       "    <tr style=\"text-align: right;\">\n",
       "      <th></th>\n",
       "      <th>admissions</th>\n",
       "      <th>positivity</th>\n",
       "    </tr>\n",
       "  </thead>\n",
       "  <tbody>\n",
       "    <tr>\n",
       "      <th>2024-01-01</th>\n",
       "      <td>0.13</td>\n",
       "      <td>4.5</td>\n",
       "    </tr>\n",
       "    <tr>\n",
       "      <th>2024-01-08</th>\n",
       "      <td>3.95</td>\n",
       "      <td>3.13</td>\n",
       "    </tr>\n",
       "    <tr>\n",
       "      <th>2024-01-15</th>\n",
       "      <td>11.33</td>\n",
       "      <td>3.3</td>\n",
       "    </tr>\n",
       "    <tr>\n",
       "      <th>2024-01-22</th>\n",
       "      <td>0.07</td>\n",
       "      <td>2.88</td>\n",
       "    </tr>\n",
       "    <tr>\n",
       "      <th>2024-01-29</th>\n",
       "      <td>0.09</td>\n",
       "      <td>0.79</td>\n",
       "    </tr>\n",
       "    <tr>\n",
       "      <th>2024-02-05</th>\n",
       "      <td>0.26</td>\n",
       "      <td>1.17</td>\n",
       "    </tr>\n",
       "    <tr>\n",
       "      <th>2024-02-12</th>\n",
       "      <td>0.34</td>\n",
       "      <td>1.15</td>\n",
       "    </tr>\n",
       "    <tr>\n",
       "      <th>2024-02-19</th>\n",
       "      <td>0.19</td>\n",
       "      <td>0.78</td>\n",
       "    </tr>\n",
       "    <tr>\n",
       "      <th>2024-02-26</th>\n",
       "      <td>1.09</td>\n",
       "      <td>0.68</td>\n",
       "    </tr>\n",
       "    <tr>\n",
       "      <th>2024-03-04</th>\n",
       "      <td>0.54</td>\n",
       "      <td>0.88</td>\n",
       "    </tr>\n",
       "    <tr>\n",
       "      <th>2024-03-11</th>\n",
       "      <td>0.13</td>\n",
       "      <td>0.55</td>\n",
       "    </tr>\n",
       "    <tr>\n",
       "      <th>2024-03-18</th>\n",
       "      <td>2.0</td>\n",
       "      <td>1.88</td>\n",
       "    </tr>\n",
       "    <tr>\n",
       "      <th>2024-03-25</th>\n",
       "      <td>0.08</td>\n",
       "      <td>0.66</td>\n",
       "    </tr>\n",
       "    <tr>\n",
       "      <th>2024-04-01</th>\n",
       "      <td>0.1</td>\n",
       "      <td>0.93</td>\n",
       "    </tr>\n",
       "    <tr>\n",
       "      <th>2024-04-08</th>\n",
       "      <td>0.0</td>\n",
       "      <td>0.36</td>\n",
       "    </tr>\n",
       "    <tr>\n",
       "      <th>2024-04-15</th>\n",
       "      <td>1.06</td>\n",
       "      <td>0.07</td>\n",
       "    </tr>\n",
       "    <tr>\n",
       "      <th>2024-04-22</th>\n",
       "      <td>0.0</td>\n",
       "      <td>0.64</td>\n",
       "    </tr>\n",
       "    <tr>\n",
       "      <th>2024-04-29</th>\n",
       "      <td>0.32</td>\n",
       "      <td>0.26</td>\n",
       "    </tr>\n",
       "    <tr>\n",
       "      <th>2024-05-06</th>\n",
       "      <td>0.0</td>\n",
       "      <td>0.51</td>\n",
       "    </tr>\n",
       "    <tr>\n",
       "      <th>2024-05-13</th>\n",
       "      <td>0.0</td>\n",
       "      <td>0.16</td>\n",
       "    </tr>\n",
       "    <tr>\n",
       "      <th>2024-05-20</th>\n",
       "      <td>0.0</td>\n",
       "      <td>0.09</td>\n",
       "    </tr>\n",
       "    <tr>\n",
       "      <th>2024-05-27</th>\n",
       "      <td>0.0</td>\n",
       "      <td>0.0</td>\n",
       "    </tr>\n",
       "    <tr>\n",
       "      <th>2024-06-03</th>\n",
       "      <td>0.0</td>\n",
       "      <td>0.19</td>\n",
       "    </tr>\n",
       "    <tr>\n",
       "      <th>2024-06-10</th>\n",
       "      <td>0.0</td>\n",
       "      <td>0.0</td>\n",
       "    </tr>\n",
       "    <tr>\n",
       "      <th>2024-06-17</th>\n",
       "      <td>3.09</td>\n",
       "      <td>0.21</td>\n",
       "    </tr>\n",
       "    <tr>\n",
       "      <th>2024-06-24</th>\n",
       "      <td>0.0</td>\n",
       "      <td>0.05</td>\n",
       "    </tr>\n",
       "    <tr>\n",
       "      <th>2024-07-01</th>\n",
       "      <td>0.0</td>\n",
       "      <td>0.16</td>\n",
       "    </tr>\n",
       "    <tr>\n",
       "      <th>2024-07-08</th>\n",
       "      <td>0.0</td>\n",
       "      <td>0.09</td>\n",
       "    </tr>\n",
       "    <tr>\n",
       "      <th>2024-07-15</th>\n",
       "      <td>0.0</td>\n",
       "      <td>0.0</td>\n",
       "    </tr>\n",
       "    <tr>\n",
       "      <th>2024-07-22</th>\n",
       "      <td>0.0</td>\n",
       "      <td>0.3</td>\n",
       "    </tr>\n",
       "    <tr>\n",
       "      <th>2024-07-29</th>\n",
       "      <td>0.0</td>\n",
       "      <td>0.0</td>\n",
       "    </tr>\n",
       "    <tr>\n",
       "      <th>2024-08-05</th>\n",
       "      <td>0.0</td>\n",
       "      <td>1.33</td>\n",
       "    </tr>\n",
       "    <tr>\n",
       "      <th>2024-08-12</th>\n",
       "      <td>0.0</td>\n",
       "      <td>0.22</td>\n",
       "    </tr>\n",
       "    <tr>\n",
       "      <th>2024-08-19</th>\n",
       "      <td>0.0</td>\n",
       "      <td>0.24</td>\n",
       "    </tr>\n",
       "    <tr>\n",
       "      <th>2024-08-26</th>\n",
       "      <td>0.26</td>\n",
       "      <td>0.62</td>\n",
       "    </tr>\n",
       "    <tr>\n",
       "      <th>2024-09-02</th>\n",
       "      <td>0.44</td>\n",
       "      <td>0.12</td>\n",
       "    </tr>\n",
       "    <tr>\n",
       "      <th>2024-09-09</th>\n",
       "      <td>0.49</td>\n",
       "      <td>0.0</td>\n",
       "    </tr>\n",
       "    <tr>\n",
       "      <th>2024-09-16</th>\n",
       "      <td>0.0</td>\n",
       "      <td>0.21</td>\n",
       "    </tr>\n",
       "    <tr>\n",
       "      <th>2024-09-23</th>\n",
       "      <td>0.07</td>\n",
       "      <td>0.68</td>\n",
       "    </tr>\n",
       "    <tr>\n",
       "      <th>2024-09-30</th>\n",
       "      <td>0.1</td>\n",
       "      <td>0.54</td>\n",
       "    </tr>\n",
       "    <tr>\n",
       "      <th>2024-10-07</th>\n",
       "      <td>0.15</td>\n",
       "      <td>0.66</td>\n",
       "    </tr>\n",
       "  </tbody>\n",
       "</table>\n",
       "</div>"
      ],
      "text/plain": [
       "           admissions positivity\n",
       "2024-01-01       0.13        4.5\n",
       "2024-01-08       3.95       3.13\n",
       "2024-01-15      11.33        3.3\n",
       "2024-01-22       0.07       2.88\n",
       "2024-01-29       0.09       0.79\n",
       "2024-02-05       0.26       1.17\n",
       "2024-02-12       0.34       1.15\n",
       "2024-02-19       0.19       0.78\n",
       "2024-02-26       1.09       0.68\n",
       "2024-03-04       0.54       0.88\n",
       "2024-03-11       0.13       0.55\n",
       "2024-03-18        2.0       1.88\n",
       "2024-03-25       0.08       0.66\n",
       "2024-04-01        0.1       0.93\n",
       "2024-04-08        0.0       0.36\n",
       "2024-04-15       1.06       0.07\n",
       "2024-04-22        0.0       0.64\n",
       "2024-04-29       0.32       0.26\n",
       "2024-05-06        0.0       0.51\n",
       "2024-05-13        0.0       0.16\n",
       "2024-05-20        0.0       0.09\n",
       "2024-05-27        0.0        0.0\n",
       "2024-06-03        0.0       0.19\n",
       "2024-06-10        0.0        0.0\n",
       "2024-06-17       3.09       0.21\n",
       "2024-06-24        0.0       0.05\n",
       "2024-07-01        0.0       0.16\n",
       "2024-07-08        0.0       0.09\n",
       "2024-07-15        0.0        0.0\n",
       "2024-07-22        0.0        0.3\n",
       "2024-07-29        0.0        0.0\n",
       "2024-08-05        0.0       1.33\n",
       "2024-08-12        0.0       0.22\n",
       "2024-08-19        0.0       0.24\n",
       "2024-08-26       0.26       0.62\n",
       "2024-09-02       0.44       0.12\n",
       "2024-09-09       0.49        0.0\n",
       "2024-09-16        0.0       0.21\n",
       "2024-09-23       0.07       0.68\n",
       "2024-09-30        0.1       0.54\n",
       "2024-10-07       0.15       0.66"
      ]
     },
     "execution_count": 34,
     "metadata": {},
     "output_type": "execute_result"
    }
   ],
   "source": [
    "# translate the columns to our metrics\n",
    "metrics ={'admissions': 'RSV_healthcare_admissionRateByWeek',\n",
    "          'positivity': 'RSV_testing_positivityByWeek'}\n",
    "\n",
    "for date, entry in data.items(): # each entry is a dictionary with cases, admissions and deaths\n",
    "    pd_date=parse_date(date) # convert to Pandas format\n",
    "    for column in ['positivity', 'admissions']: \n",
    "        metric_name=metrics[column]\n",
    "        # do not assume all values are there for every date - if a value is not available, insert a 0.0\n",
    "        value= entry.get(metric_name, 0.0)\n",
    "        # this is the way you access a specific location in the dataframe - use .loc\n",
    "        # and put index,column in a single set of [ ]\n",
    "        timeseriesdf.loc[date, column]=value\n",
    "            \n",
    "# fill in any remaining \"holes\" due to missing dates\n",
    "timeseriesdf.fillna(0.0, inplace=True)\n",
    "            \n",
    "timeseriesdf"
   ]
  },
  {
   "cell_type": "code",
   "execution_count": 35,
   "id": "4ff5bb80-8923-406b-a630-bf6b94c54c08",
   "metadata": {},
   "outputs": [
    {
     "data": {
      "image/png": "[encoded data removed]",
      "text/plain": [
       "<Figure size 640x480 with 1 Axes>"
      ]
     },
     "metadata": {},
     "output_type": "display_data"
    }
   ],
   "source": [
    "ax=timeseriesdf.plot() # easy peasy...\n",
    "ax.set_title('hospital admissions and the total number of PCR tests for RSV');"
   ]
  },
  {
   "cell_type": "code",
   "execution_count": 36,
   "id": "8d48d1ac-d185-4f58-8860-4605f8dce1b9",
   "metadata": {},
   "outputs": [
    {
     "data": {
      "text/plain": [
       "Text(0.5, 1.0, 'hospital admissions and the total number of PCR tests for RSV (log scale)')"
      ]
     },
     "execution_count": 36,
     "metadata": {},
     "output_type": "execute_result"
    },
    {
     "data": {
      "image/png": "[encoded data removed]",
      "text/plain": [
       "<Figure size 640x480 with 1 Axes>"
      ]
     },
     "metadata": {},
     "output_type": "display_data"
    }
   ],
   "source": [
    "ax=timeseriesdf.plot(logy=True) # ...lemon squeezy\n",
    "ax.set_title('hospital admissions and the total number of PCR tests for RSV (log scale)')"
   ]
  },
  {
   "cell_type": "markdown",
   "id": "73650251-f38a-4fdb-8b9f-9fcbcbb71ccb",
   "metadata": {},
   "source": [
    "How to get yourself your data into a pickle (file)¶"
   ]
  },
  {
   "cell_type": "markdown",
   "id": "61264581-0d66-402c-9b78-f41e36aac99b",
   "metadata": {},
   "source": [
    "In the actual dashboard, at this point, there is no need to save the dataframes - you can just add interactive controls to the graphs as you plot them. While developing, however, we want to save the wrangled data in order to be able to experiment with the controls. Pandas luckily makes it easy by providing a method that saves a DataFrame to a \"pickle\" file. This is based on the pickle library, that however is imported by pandas, so you do not need to import it yourself. While JSON is a standard format that is language-independent, a pickle file is Python-specific. This format is thus more flexible, allowing the serialisation of a broader range of Python objects; however, it is less portable."
   ]
  },
  {
   "cell_type": "code",
   "execution_count": 38,
   "id": "b729b280-ecff-4b6e-96f5-346ad128745f",
   "metadata": {},
   "outputs": [],
   "source": [
    "# pandas makes saving to a pickle file dead easy:\n",
    "timeseriesdf.to_pickle(\"timeseriesdf.pkl\")"
   ]
  },
  {
   "cell_type": "markdown",
   "id": "b3ff2fa4-1f8a-4ae2-8f67-6b692d1fadfe",
   "metadata": {},
   "source": [
    "Adding interactive controls"
   ]
  },
  {
   "cell_type": "markdown",
   "id": "0e8851f1-6822-46c6-9ab5-91c87e77d405",
   "metadata": {},
   "source": [
    "We will be adding interactive controls to our graphs using the ipywidgets library. This is basically a Graphical User Interface (GUI) library that runs in a notebook. Its control elements (so-called widgets) are actually an interface to JavaScript code that runs in your browser (in a stardard GUI library meant for desktop applications, they would be written in some low-level language and interface with the window manager on your computer). An in-depth treatment of GUIs is beyond the scope of this tutorial. However, I will strive to highlight concepts of general applicability and to use a clean syntax that highlights where the various elements fit in and may be easier to port to other GUI toolkits. If you are interested in learning more about (desktop-based) GUIs in Python, I strongly recommend the appJar library - it is an excellent learning library and a great quick prototyping tool as well.\n",
    "\n",
    "The ipywidgets library is an integral part of the Jupyter framework and should therefore already be installed on any machine you are running this notebook on. If for some reason it isn't, follow these instructions to install it."
   ]
  },
  {
   "cell_type": "code",
   "execution_count": 39,
   "id": "c2c66835-7028-4ff4-893d-3a826ca73232",
   "metadata": {},
   "outputs": [],
   "source": [
    "from IPython.display import clear_output\n",
    "import ipywidgets as wdg\n",
    "import pandas as pd\n",
    "import matplotlib.pyplot as plt"
   ]
  },
  {
   "cell_type": "code",
   "execution_count": 40,
   "id": "cf74f243-63fe-4a23-a00b-f089cb6f0867",
   "metadata": {},
   "outputs": [],
   "source": [
    "%matplotlib inline\n",
    "# make figures larger\n",
    "plt.rcParams['figure.dpi'] = 100"
   ]
  },
  {
   "cell_type": "markdown",
   "id": "35533a85-583c-4caa-88c8-27733e2b71cb",
   "metadata": {},
   "source": [
    "Updating your data¶\n",
    "It is a good idea to provide some data on the disk for your dashboard to start on - after all, the PHE website might be offline when someone accesses your dashboard; also, accessing the PHE website directly would make startup time longer. However, you can provide a button that the user can click to poll the API and refresh the data.\n",
    "\n",
    "The ipywidgets library provides a Button class that implements a clickable button. The way this is linked to your code is through a callback function. This is a function that is passed as a parameter to the on_click method of the Button object, that in turn calls it when it is clicked. The callback function is passed the Button object itself as a parameter (which is useful if more than one button, for instance, shares the same callback). We can safely ignore that here.\n",
    "\n",
    "The call to display below actually draws the button on the notebook."
   ]
  },
  {
   "cell_type": "code",
   "execution_count": 41,
   "id": "18240cf1-5d70-44e1-98ac-d75c4e7da76a",
   "metadata": {},
   "outputs": [
    {
     "data": {
      "application/vnd.jupyter.widget-view+json": {
       "model_id": "6ffbb1d2aea149afbb8a26a5b85c2b60",
       "version_major": 2,
       "version_minor": 0
      },
      "text/plain": [
       "Button(description='Refresh data', icon='download', style=ButtonStyle(), tooltip='Click to download current Pu…"
      ]
     },
     "metadata": {},
     "output_type": "display_data"
    }
   ],
   "source": [
    "# our API access function. This will be called by the button when it is clicked\n",
    "def access_api(button):\n",
    "    # Ignore the button parameter\n",
    "    #\n",
    "    # put code for polling the API here\n",
    "    #\n",
    "    # after all is done, you can switch the icon on the button to a \"check\" sign\n",
    "    # and optionally disable the button - it won't be needed again.\n",
    "    apibutton.icon=\"check\"\n",
    "    apibutton.disabled=True\n",
    "\n",
    "# see the doc for the parameters    \n",
    "apibutton=wdg.Button(\n",
    "    description='Refresh data',\n",
    "    disabled=False,\n",
    "    button_style='', # 'success', 'info', 'warning', 'danger' or ''\n",
    "    tooltip='Click to download current Public Health England data',\n",
    "    icon='download' # (FontAwesome names without the `fa-` prefix)\n",
    ")\n",
    "\n",
    "# register the callback function with the button\n",
    "apibutton.on_click(access_api)\n",
    "\n",
    "# this is an iPython function that generalises print for Jupyter Notebooks; we use it to \n",
    "# display the widgets\n",
    "display(apibutton)"
   ]
  },
  {
   "cell_type": "markdown",
   "id": "f6dbea6e-ac8f-4178-8b57-e20935981739",
   "metadata": {},
   "source": [
    "Single-control graphs¶"
   ]
  },
  {
   "cell_type": "markdown",
   "id": "03740be1-d0b8-4b37-984b-c268298eff6b",
   "metadata": {},
   "source": [
    "Adding an interactive control to a graph is not much more complicated. The control can be any of the many widgets provided by iPywidgets. Here we have chosen Select that allows us to select a year (see the doc). We use the year to filter the DataFrame, and display the data for that year aggregated by month as a multiple stacked bar chart\n",
    "\n",
    "Again, Select makes use of a callback, that gets passed the option that have been selected. Each time the selection is changed, the callback function is called again. The way the callback is registered with the widget is slightly different: the callback (here lineage_graph) must take a single parameter (the selected year, called graphyear). We then pass the callback to interactive_output, together with a dictionary that specifies which widget (year) must provide a value for the callback parameter (graphyear). Basically, the iPywidget framework calls lineage_graph with the value retrieved from the widget after each user interaction. The value of interactive_output is an Output widget (see the doc), that can be assigned to a variable and passed to display together with the year widget itself. Any printout, graph or other output of the callback lineage_graph is captured and displayed through that Output widget, that renders it in the browser."
   ]
  },
  {
   "cell_type": "code",
   "execution_count": 42,
   "id": "81e86366-e016-4e12-9ef6-ca01aef0439d",
   "metadata": {},
   "outputs": [],
   "source": [
    "# in the dashboard, this will be the dataframe that's computed directly from the json files,\n",
    "# or from the current data downloaded from the API\n",
    "timeseriesdf=pd.read_pickle(\"timeseriesdf.pkl\")"
   ]
  },
  {
   "cell_type": "code",
   "execution_count": 57,
   "id": "500e12e7-13a0-4668-8a6f-ea842bfd0a8e",
   "metadata": {},
   "outputs": [
    {
     "data": {
      "application/vnd.jupyter.widget-view+json": {
       "model_id": "97a05df2f17e4102a92c1f6572e61ca4",
       "version_major": 2,
       "version_minor": 0
      },
      "text/plain": [
       "Select(description='Month', index=9, options=(1, 2, 3, 4, 5, 6, 7, 8, 9, 10), rows=1, value=10)"
      ]
     },
     "metadata": {},
     "output_type": "display_data"
    },
    {
     "data": {
      "application/vnd.jupyter.widget-view+json": {
       "model_id": "0c1d71ac75b04493bd23f46287ec2ce5",
       "version_major": 2,
       "version_minor": 0
      },
      "text/plain": [
       "Output()"
      ]
     },
     "metadata": {},
     "output_type": "display_data"
    }
   ],
   "source": [
    "month=wdg.Select(\n",
    "    # options available: unique years in the dataframe\n",
    "    options=timeseriesdf.index.month.unique(), # options available\n",
    "    value=timeseriesdf.index.month[-1], # initial value: most recent year\n",
    "    rows=1, # rows of the selection box\n",
    "    description='Month',\n",
    "    disabled=False\n",
    ")\n",
    "\n",
    "def timeseries_graph(graphmonth):\n",
    "    print(graphmonth)\n",
    "    # our callback function.\n",
    "    weekly=timeseriesdf[timeseriesdf.index.month==graphmonth]\n",
    "    # average the rows by month\n",
    "    # make sure it's all normalised to 100\n",
    "    #weekly=weekly.div(totals, axis=0)*100\n",
    "    # older dates on top of the graph\n",
    "    weekly= weekly[::-1]\n",
    "    ax=weekly.plot(kind='barh', stacked=True,cmap='tab20')\n",
    "    ax.legend(loc='center left',bbox_to_anchor=(1.0, 0.5))\n",
    "    ax.set_yticklabels(weekly.index.strftime('%Y-%m-%d'))\n",
    "    plt.show()\n",
    "    \n",
    "# keep calling age_graph(graphcolumns=value_of_agecols); capture output in widget output    \n",
    "output=wdg.interactive_output(timeseries_graph, {'graphmonth': month})\n",
    "\n",
    "display(month, output)"
   ]
  },
  {
   "cell_type": "code",
   "execution_count": 55,
   "id": "255d8be9-7a5b-4c54-bbd8-147acfc04fe9",
   "metadata": {},
   "outputs": [
    {
     "data": {
      "text/plain": [
       "Index([1, 2, 3, 4, 5, 6, 7, 8, 9, 10], dtype='int32')"
      ]
     },
     "execution_count": 55,
     "metadata": {},
     "output_type": "execute_result"
    }
   ],
   "source": [
    "timeseriesdf.index.month.unique()"
   ]
  },
  {
   "cell_type": "code",
   "execution_count": 44,
   "id": "94eb73f9-8f9d-4536-b48b-10a640407941",
   "metadata": {},
   "outputs": [
    {
     "data": {
      "application/vnd.jupyter.widget-view+json": {
       "model_id": "e2a0b21acaea4eb6b430e78a0f97914a",
       "version_major": 2,
       "version_minor": 0
      },
      "text/plain": [
       "Select(description='Year', options=(2024,), rows=1, value=2024)"
      ]
     },
     "metadata": {},
     "output_type": "display_data"
    },
    {
     "data": {
      "application/vnd.jupyter.widget-view+json": {
       "model_id": "5e8dcfb4029443d1bc9a0178d128c572",
       "version_major": 2,
       "version_minor": 0
      },
      "text/plain": [
       "Output()"
      ]
     },
     "metadata": {},
     "output_type": "display_data"
    },
    {
     "data": {
      "image/png": "[encoded data removed]",
      "text/plain": [
       "<Figure size 640x480 with 1 Axes>"
      ]
     },
     "metadata": {},
     "output_type": "display_data"
    }
   ],
   "source": [
    "year=wdg.Select(\n",
    "    # options available: unique years in the dataframe\n",
    "    options=timeseriesdf.index.year.unique(), # options available\n",
    "    value=timeseriesdf.index.year[-1], # initial value: most recent year\n",
    "    rows=1, # rows of the selection box\n",
    "    description='Year',\n",
    "    disabled=False\n",
    ")\n",
    "\n",
    "def timeseries_graph(graphyear):\n",
    "    # our callback function.\n",
    "    yeardf=timeseriesdf[timeseriesdf.index.year==graphyear]\n",
    "    # average the rows by month\n",
    "    monthly= yeardf.groupby(pd.Grouper(freq='1M')).mean() \n",
    "    totals=monthly.sum(axis=1) # over the rows\n",
    "    # make sure it's all normalised to 100\n",
    "    monthly=monthly.div(totals, axis=0)*100\n",
    "    # older dates on top of the graph\n",
    "    monthly = monthly[::-1]\n",
    "    ax=monthly.plot(kind='barh', stacked=True,cmap='tab20')\n",
    "    ax.legend(loc='center left',bbox_to_anchor=(1.0, 0.5))\n",
    "    ax.set_yticklabels(monthly.index.strftime('%Y-%m-%d'))\n",
    "    \n",
    "# keep calling age_graph(graphcolumns=value_of_agecols); capture output in widget output    \n",
    "output=wdg.interactive_output(timeseries_graph, {'graphyear': year})\n",
    "\n",
    "display(year, output)"
   ]
  },
  {
   "cell_type": "markdown",
   "id": "105e65c9-5a0b-4f75-a62e-be8bdbc86118",
   "metadata": {},
   "source": [
    "Multiple-control graphs"
   ]
  },
  {
   "cell_type": "markdown",
   "id": "3c58cfbe-c5c1-46b7-9a9c-c8173182c850",
   "metadata": {},
   "source": [
    "In the time series graph, we may want to add a couple of controls - one for selecting the stats to display, and the other to choose between an linear and logarithmic scale. This second choice we can implement with a RadioButtons widget (documentation). This widget returns a Boolean value (True or False) to the callback function. The callback (in our case timeseries_graph) must then accept two parameteres, a tuple of stats coming from the SelectMultiple widget and the Boolean value from the RadioButtons. Again, the interactive_output function associates the widgets with the callback and captures the output in an Output widget.\n",
    "\n",
    "The new element in this example is the container widget HBox. Container widgets are another feature shared by most GUI toolkits; they are used to group and arrange other widgets on the interface."
   ]
  },
  {
   "cell_type": "code",
   "execution_count": 46,
   "id": "6e043f79-2074-46c0-9f3f-b052ce9fc67d",
   "metadata": {},
   "outputs": [],
   "source": [
    "# in the dashboard, this should be computed from the json files\n",
    "timeseriesdf=pd.read_pickle(\"timeseriesdf.pkl\")"
   ]
  },
  {
   "cell_type": "code",
   "execution_count": 47,
   "id": "8507b916-4d7e-49ba-976d-0f1f3537a840",
   "metadata": {},
   "outputs": [
    {
     "data": {
      "application/vnd.jupyter.widget-view+json": {
       "model_id": "a78457246b3b42fcb6b7562473d0104c",
       "version_major": 2,
       "version_minor": 0
      },
      "text/plain": [
       "HBox(children=(SelectMultiple(description='Stats:', index=(0, 1), options=('admissions', 'positivity'), rows=3…"
      ]
     },
     "metadata": {},
     "output_type": "display_data"
    },
    {
     "data": {
      "application/vnd.jupyter.widget-view+json": {
       "model_id": "09f1f1b0678640208109fdac67cbf30c",
       "version_major": 2,
       "version_minor": 0
      },
      "text/plain": [
       "Output()"
      ]
     },
     "metadata": {},
     "output_type": "display_data"
    }
   ],
   "source": [
    "series=wdg.SelectMultiple(\n",
    "    options=[ 'admissions', 'positivity'],\n",
    "    value=['admissions', 'positivity'],\n",
    "    rows=3,\n",
    "    description='Stats:',\n",
    "    disabled=False\n",
    ")\n",
    "\n",
    "scale=wdg.RadioButtons(\n",
    "    options=['linear', 'log'],\n",
    "#   value='pineapple', # Defaults to 'pineapple'\n",
    "#   layout={'width': 'max-content'}, # If the items' names are long\n",
    "    description='Scale:',\n",
    "    disabled=False\n",
    ")\n",
    "\n",
    "# try replacing HBox with a VBox\n",
    "controls=wdg.HBox([series, scale])\n",
    "\n",
    "def timeseries_graph(gcols, gscale):\n",
    "    if gscale=='linear':\n",
    "        logscale=False\n",
    "    else:\n",
    "        logscale=True\n",
    "    ncols=len(gcols)\n",
    "    if ncols>0:\n",
    "        timeseriesdf[list(gcols)].plot(logy=logscale)\n",
    "        plt.show() # important - graphs won't update if this is missing \n",
    "    else:\n",
    "        print(\"Click to select data for graph\")\n",
    "        print(\"(CTRL-Click to select more than one category)\")\n",
    "\n",
    "# keep calling timeseries_graph(gcols=value_of_series, gscale=value_of_scale); \n",
    "# capture output in widget graph   \n",
    "graph=wdg.interactive_output(timeseries_graph, {'gcols': series, 'gscale': scale})\n",
    "\n",
    "display(controls, graph)"
   ]
  },
  {
   "cell_type": "code",
   "execution_count": null,
   "id": "1f89ad5c-28ce-4988-85ef-043e875c8f42",
   "metadata": {},
   "outputs": [],
   "source": []
  }
 ],
 "metadata": {
  "kernelspec": {
   "display_name": "Python 3 (ipykernel)",
   "language": "python",
   "name": "python3"
  },
  "language_info": {
   "codemirror_mode": {
    "name": "ipython",
    "version": 3
   },
   "file_extension": ".py",
   "mimetype": "text/x-python",
   "name": "python",
   "nbconvert_exporter": "python",
   "pygments_lexer": "ipython3",
   "version": "3.11.9"
  }
 },
 "nbformat": 4,
 "nbformat_minor": 5
}
